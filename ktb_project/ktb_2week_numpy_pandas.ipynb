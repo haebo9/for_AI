{
  "nbformat": 4,
  "nbformat_minor": 0,
  "metadata": {
    "colab": {
      "provenance": []
    },
    "kernelspec": {
      "name": "python3",
      "display_name": "Python 3"
    },
    "language_info": {
      "name": "python"
    }
  },
  "cells": [
    {
      "cell_type": "markdown",
      "source": [
        "## 2주차 과제"
      ],
      "metadata": {
        "id": "yvbB_RG1AFWy"
      }
    },
    {
      "cell_type": "markdown",
      "source": [
        "1. NumPy 배열 생성 및 연산\n",
        "- NumPy를 사용해 3x3 정수 배열(1부터 9까지)과 2x5 실수 배열(0~1 사이 난수)을 생성하세요. 생성한 배열의 합계와 평균을 각각 계산하고, 두 배열을 곱한 결과를 출력하세요.\n",
        "- 배열의 형태를 유지하지 않아도 괜찮습니다."
      ],
      "metadata": {
        "id": "hWFxA82wFmrq"
      }
    },
    {
      "cell_type": "code",
      "execution_count": null,
      "metadata": {
        "colab": {
          "base_uri": "https://localhost:8080/"
        },
        "id": "96nI2vNLCMfw",
        "outputId": "ba6641c0-2abb-4844-a777-4e0bfb3a6518"
      },
      "outputs": [
        {
          "output_type": "stream",
          "name": "stdout",
          "text": [
            "3x3 정수 배열:\n",
            "[[1 2 3]\n",
            " [4 5 6]\n",
            " [7 8 9]]\n",
            "\n",
            "합계: 45\n",
            "평균: 5.0\n",
            "------------------------------------------------------------\n",
            "2x5 실수 배열:\n",
            "[[0.83567341 0.94323056 0.61442628 0.66113906 0.60374699]\n",
            " [0.60416596 0.25860921 0.03329936 0.8276057  0.19987487]]\n",
            "\n",
            "합계: 5.5818\n",
            "평균: 0.5582\n",
            "------------------------------------------------------------\n",
            "array1배열과 array2배열의 곱:\n",
            "[[0.83567341 0.94323056 0.61442628 0.66113906 0.60374699 0.60416596\n",
            "  0.25860921 0.03329936 0.8276057  0.19987487]\n",
            " [1.67134682 1.88646113 1.22885256 1.32227811 1.20749398 1.20833191\n",
            "  0.51721842 0.06659871 1.6552114  0.39974974]\n",
            " [2.50702023 2.82969169 1.84327884 1.98341717 1.81124096 1.81249787\n",
            "  0.77582764 0.09989807 2.4828171  0.5996246 ]\n",
            " [3.34269364 3.77292225 2.45770513 2.64455622 2.41498795 2.41666382\n",
            "  1.03443685 0.13319742 3.3104228  0.79949947]\n",
            " [4.17836706 4.71615281 3.07213141 3.30569528 3.01873494 3.02082978\n",
            "  1.29304606 0.16649678 4.13802849 0.99937434]\n",
            " [5.01404047 5.65938338 3.68655769 3.96683433 3.62248193 3.62499573\n",
            "  1.55165527 0.19979613 4.96563419 1.19924921]\n",
            " [5.84971388 6.60261394 4.30098397 4.62797339 4.22622891 4.22916169\n",
            "  1.81026448 0.23309549 5.79323989 1.39912408]\n",
            " [6.68538729 7.5458445  4.91541025 5.28911244 4.8299759  4.83332764\n",
            "  2.06887369 0.26639484 6.62084559 1.59899895]\n",
            " [7.5210607  8.48907507 5.52983653 5.9502515  5.43372289 5.4374936\n",
            "  2.32748291 0.2996942  7.44845129 1.79887381]]\n"
          ]
        }
      ],
      "source": [
        "import numpy as np\n",
        "\n",
        "# 3x3 정수 배열 (1부터 9까지)\n",
        "array1 = np.arange(1, 10).reshape(3, 3)\n",
        "\n",
        "# 합계 및 평균 계산\n",
        "sum_array1 = np.sum(array1)\n",
        "mean_array1 = np.mean(array1)\n",
        "\n",
        "# 결과 출력\n",
        "print(\"3x3 정수 배열:\")\n",
        "print(array1)\n",
        "print(f\"\\n합계: {sum_array1}\")\n",
        "print(f\"평균: {mean_array1}\")\n",
        "\n",
        "print(\"-\" * 60)  # 밑줄 추가\n",
        "\n",
        "# 2x5 실수 배열 (0~1 사이 난수)\n",
        "array2 = np.random.rand(2, 5)\n",
        "\n",
        "# 합계 및 평균 계산\n",
        "sum_array2 = np.sum(array2)\n",
        "mean_array2 = np.mean(array2)\n",
        "\n",
        "# 결과 출력\n",
        "print(\"2x5 실수 배열:\")\n",
        "print(array2)\n",
        "print(f\"\\n합계: {sum_array2:.4f}\")\n",
        "print(f\"평균: {mean_array2:.4f}\")\n",
        "\n",
        "print(\"-\" * 60)  # 밑줄 추가\n",
        "\n",
        "ab_array = np.outer(array1.flatten() , array2.flatten())\n",
        "print('array1배열과 array2배열의 곱:')\n",
        "print(ab_array)\n",
        "\n"
      ]
    },
    {
      "cell_type": "markdown",
      "source": [
        "---\n",
        "2. Pandas를 활용한 데이터 처리\n",
        "- 아래 데이터를 DataFrame으로 생성하세요.\n",
        "Name: [Alice, Bob, None, Charlie]\n",
        "Age: [25, None, 28, 35]\n",
        "City: [New York, None, Chicago, None]\n",
        "\n",
        "- 누락된 이름은 \"Unknown\"으로, 나이는 평균 나이로 채우고 수정된 DataFrame을 출력하세요."
      ],
      "metadata": {
        "id": "l4BU-xgQF0qF"
      }
    },
    {
      "cell_type": "code",
      "source": [
        "import pandas as pd\n",
        "\n",
        "# 데이터 생성\n",
        "data = {\n",
        "    'Name': ['Alice', 'Bob', None, 'Charlie'],\n",
        "    'Age': [25, None, 28, 35],\n",
        "    'City': ['New York', None, 'Chicago', None]\n",
        "}\n",
        "\n",
        "df = pd.DataFrame(data)\n",
        "\n",
        "# 수정 전 데이터 정보 출력\n",
        "print(\"Before Processing:\")\n",
        "df.info()\n",
        "print(\"\\n\")\n",
        "\n",
        "# 누락된 데이터 처리\n",
        "df[\"Name\"].fillna(\"Unknown\")\n",
        "df[\"Age\"].fillna(df[\"Age\"].mean()).astype(int)\n",
        "\n",
        "print(\"-\" * 60)  # 밑줄 추가\n",
        "\n",
        "# 수정된 데이터 출력\n",
        "print(df)\n"
      ],
      "metadata": {
        "colab": {
          "base_uri": "https://localhost:8080/"
        },
        "id": "ctiXutJDF6s0",
        "outputId": "5cc1fdf6-a17f-41a2-950f-fd216536f261"
      },
      "execution_count": null,
      "outputs": [
        {
          "output_type": "stream",
          "name": "stdout",
          "text": [
            "Before Processing:\n",
            "<class 'pandas.core.frame.DataFrame'>\n",
            "RangeIndex: 4 entries, 0 to 3\n",
            "Data columns (total 3 columns):\n",
            " #   Column  Non-Null Count  Dtype  \n",
            "---  ------  --------------  -----  \n",
            " 0   Name    3 non-null      object \n",
            " 1   Age     3 non-null      float64\n",
            " 2   City    2 non-null      object \n",
            "dtypes: float64(1), object(2)\n",
            "memory usage: 228.0+ bytes\n",
            "\n",
            "\n",
            "------------------------------------------------------------\n",
            "      Name   Age      City\n",
            "0    Alice  25.0  New York\n",
            "1      Bob   NaN      None\n",
            "2     None  28.0   Chicago\n",
            "3  Charlie  35.0      None\n"
          ]
        }
      ]
    },
    {
      "cell_type": "markdown",
      "source": [
        "3. HTTP 통신을 활용한 데이터 읽기 및 저장\n",
        "- https://jsonplaceholder.typicode.com/todos 에서 JSON 데이터를 가져오세요.\n",
        "데이터를 파일로 저장한 뒤, \"title\" 키의 값을 출력하세요."
      ],
      "metadata": {
        "id": "vCNp3m3IKDMK"
      }
    },
    {
      "cell_type": "code",
      "source": [
        "import requests\n",
        "import pandas as pd\n",
        "\n",
        "\n",
        "url = \"https://jsonplaceholder.typicode.com/todos\"\n",
        "data = requests.get(url).json()\n",
        "\n",
        "df = pd.DataFrame(data)\n",
        "df.to_csv(\"todos.csv\")\n",
        "\n",
        "print(df[\"title\"])\n"
      ],
      "metadata": {
        "colab": {
          "base_uri": "https://localhost:8080/"
        },
        "id": "aJ0EcFQZKH_G",
        "outputId": "16c06ef6-836e-44aa-d04c-fd06a64479c8"
      },
      "execution_count": null,
      "outputs": [
        {
          "output_type": "stream",
          "name": "stdout",
          "text": [
            "0                                     delectus aut autem\n",
            "1                     quis ut nam facilis et officia qui\n",
            "2                                    fugiat veniam minus\n",
            "3                                       et porro tempora\n",
            "4      laboriosam mollitia et enim quasi adipisci qui...\n",
            "                             ...                        \n",
            "195                  consequuntur aut ut fugit similique\n",
            "196                    dignissimos quo nobis earum saepe\n",
            "197                         quis eius est sint explicabo\n",
            "198                         numquam repellendus a magnam\n",
            "199                         ipsam aperiam voluptates qui\n",
            "Name: title, Length: 200, dtype: object\n"
          ]
        }
      ]
    }
  ]
}